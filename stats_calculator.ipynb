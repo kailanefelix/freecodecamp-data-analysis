{
 "cells": [
  {
   "cell_type": "code",
   "execution_count": 4,
   "id": "4c5722c3-bfa3-4e93-972a-69a16aa4ad49",
   "metadata": {},
   "outputs": [],
   "source": [
    "# Assignment\n",
    "\n",
    "# Create a function named calculate() in mean_var_std.py that uses Numpy to output the mean, variance, standard deviation, \n",
    "# max, min, and sum of the rows, columns, and elements in a 3 x 3 matrix.\n",
    "\n",
    "# The input of the function should be a list containing 9 digits. The function should convert the list into a 3 x 3 Numpy array, and then\n",
    "# return a dictionary containing the mean, variance, standard deviation, max, min, and sum along both axes and for the flattened matrix.\n",
    "\n",
    "# The returned dictionary should follow this format:"
   ]
  },
  {
   "cell_type": "code",
   "execution_count": null,
   "id": "b8bda511-942d-4f3e-9a3c-bebd753dd3df",
   "metadata": {},
   "outputs": [],
   "source": []
  },
  {
   "cell_type": "code",
   "execution_count": null,
   "id": "c8693453-ebed-4f5c-b772-129e7662a768",
   "metadata": {},
   "outputs": [],
   "source": [
    "import numpy as np\n",
    "\n",
    "def calculate(numbers):\n",
    "\n",
    "    if len(numbers) != 9:\n",
    "        raise ValueError(\"List must contain nine numbers.\")\n",
    "    \n",
    "    matrix = np.array(numbers).reshape(3,3)\n",
    "  \n",
    "    matrix_mean = [np.mean(matrix, axis=0).tolist(), np.mean(matrix, axis=1).tolist(), np.mean(numbers)]\n",
    "    matrix_variance = [np.var(matrix, axis = 0).tolist(), np.var(matrix, axis=1).tolist(), np.var(numbers)]\n",
    "    matrix_std = [np.std(matrix, axis=0).tolist(), np.std(matrix, axis=1).tolist(), np.std(numbers)]\n",
    "    matrix_max = [np.max(matrix, axis=0).tolist(), np.max(matrix, axis=1).tolist(), np.max(numbers)]\n",
    "    matrix_min = [np.min(matrix, axis=0).tolist(), np.min(matrix, axis=1).tolist(), np.min(numbers)]\n",
    "    matrix_sum = [np.sum(matrix, axis=0).tolist(), np.sum(matrix, axis=1).tolist(), np.sum(numbers)]\n",
    "\n",
    "\n",
    "    calculations = {\n",
    "        'mean': matrix_mean,\n",
    "        'variance': matrix_variance,\n",
    "        'standard deviation': matrix_std,\n",
    "        'max':matrix_max,\n",
    "        'min': matrix_min,\n",
    "        'sum': matrix_sum\n",
    "    }\n",
    "    \n",
    "    return calculations"
   ]
  }
 ],
 "metadata": {
  "kernelspec": {
   "display_name": "Python 3",
   "language": "python",
   "name": "python3"
  },
  "language_info": {
   "codemirror_mode": {
    "name": "ipython",
    "version": 3
   },
   "file_extension": ".py",
   "mimetype": "text/x-python",
   "name": "python",
   "nbconvert_exporter": "python",
   "pygments_lexer": "ipython3",
   "version": "3.8.8"
  }
 },
 "nbformat": 4,
 "nbformat_minor": 5
}
