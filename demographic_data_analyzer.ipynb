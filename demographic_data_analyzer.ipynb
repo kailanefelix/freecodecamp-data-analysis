{
 "cells": [
  {
   "cell_type": "markdown",
   "id": "db622b2d-abf8-44de-a88d-e3df5186996d",
   "metadata": {},
   "source": [
    "#### Assignment \n",
    "\n",
    "In this challenge you must analyze demographic data using Pandas. You are given a dataset of demographic data that was extracted from the 1994 Census database.\n",
    "You must use Pandas to answer the following questions:\n",
    "\n",
    "How many people of each race are represented in this dataset? This should be a Pandas series with race names as the index labels. (race column)\n",
    "\n",
    "What is the average age of men?\n",
    "\n",
    "What is the percentage of people who have a Bachelor's degree?\n",
    "\n",
    "What percentage of people with advanced education (Bachelors, Masters, or Doctorate) make more than 50K?\n",
    "\n",
    "What percentage of people without advanced education make more than 50K?\n",
    "\n",
    "What is the minimum number of hours a person works per week?\n",
    "\n",
    "What percentage of the people who work the minimum number of hours per week have a salary of more than 50K?\n",
    "\n",
    "What country has the highest percentage of people that earn >50K and what is that percentage?\n",
    "\n",
    "Identify the most popular occupation for those who earn >50K in India."
   ]
  },
  {
   "cell_type": "code",
   "execution_count": 47,
   "id": "cefe6dd8-df90-49e3-8f6d-da7479c6ed2f",
   "metadata": {},
   "outputs": [
    {
     "data": {
      "text/html": [
       "<div>\n",
       "<style scoped>\n",
       "    .dataframe tbody tr th:only-of-type {\n",
       "        vertical-align: middle;\n",
       "    }\n",
       "\n",
       "    .dataframe tbody tr th {\n",
       "        vertical-align: top;\n",
       "    }\n",
       "\n",
       "    .dataframe thead th {\n",
       "        text-align: right;\n",
       "    }\n",
       "</style>\n",
       "<table border=\"1\" class=\"dataframe\">\n",
       "  <thead>\n",
       "    <tr style=\"text-align: right;\">\n",
       "      <th></th>\n",
       "      <th>age</th>\n",
       "      <th>workclass</th>\n",
       "      <th>fnlwgt</th>\n",
       "      <th>education</th>\n",
       "      <th>education-num</th>\n",
       "      <th>marital-status</th>\n",
       "      <th>occupation</th>\n",
       "      <th>relationship</th>\n",
       "      <th>race</th>\n",
       "      <th>sex</th>\n",
       "      <th>capital-gain</th>\n",
       "      <th>capital-loss</th>\n",
       "      <th>hours-per-week</th>\n",
       "      <th>native-country</th>\n",
       "      <th>salary</th>\n",
       "    </tr>\n",
       "  </thead>\n",
       "  <tbody>\n",
       "    <tr>\n",
       "      <th>0</th>\n",
       "      <td>39</td>\n",
       "      <td>State-gov</td>\n",
       "      <td>77516</td>\n",
       "      <td>Bachelors</td>\n",
       "      <td>13</td>\n",
       "      <td>Never-married</td>\n",
       "      <td>Adm-clerical</td>\n",
       "      <td>Not-in-family</td>\n",
       "      <td>White</td>\n",
       "      <td>Male</td>\n",
       "      <td>2174</td>\n",
       "      <td>0</td>\n",
       "      <td>40</td>\n",
       "      <td>United-States</td>\n",
       "      <td>&lt;=50K</td>\n",
       "    </tr>\n",
       "    <tr>\n",
       "      <th>1</th>\n",
       "      <td>50</td>\n",
       "      <td>Self-emp-not-inc</td>\n",
       "      <td>83311</td>\n",
       "      <td>Bachelors</td>\n",
       "      <td>13</td>\n",
       "      <td>Married-civ-spouse</td>\n",
       "      <td>Exec-managerial</td>\n",
       "      <td>Husband</td>\n",
       "      <td>White</td>\n",
       "      <td>Male</td>\n",
       "      <td>0</td>\n",
       "      <td>0</td>\n",
       "      <td>13</td>\n",
       "      <td>United-States</td>\n",
       "      <td>&lt;=50K</td>\n",
       "    </tr>\n",
       "    <tr>\n",
       "      <th>2</th>\n",
       "      <td>38</td>\n",
       "      <td>Private</td>\n",
       "      <td>215646</td>\n",
       "      <td>HS-grad</td>\n",
       "      <td>9</td>\n",
       "      <td>Divorced</td>\n",
       "      <td>Handlers-cleaners</td>\n",
       "      <td>Not-in-family</td>\n",
       "      <td>White</td>\n",
       "      <td>Male</td>\n",
       "      <td>0</td>\n",
       "      <td>0</td>\n",
       "      <td>40</td>\n",
       "      <td>United-States</td>\n",
       "      <td>&lt;=50K</td>\n",
       "    </tr>\n",
       "    <tr>\n",
       "      <th>3</th>\n",
       "      <td>53</td>\n",
       "      <td>Private</td>\n",
       "      <td>234721</td>\n",
       "      <td>11th</td>\n",
       "      <td>7</td>\n",
       "      <td>Married-civ-spouse</td>\n",
       "      <td>Handlers-cleaners</td>\n",
       "      <td>Husband</td>\n",
       "      <td>Black</td>\n",
       "      <td>Male</td>\n",
       "      <td>0</td>\n",
       "      <td>0</td>\n",
       "      <td>40</td>\n",
       "      <td>United-States</td>\n",
       "      <td>&lt;=50K</td>\n",
       "    </tr>\n",
       "    <tr>\n",
       "      <th>4</th>\n",
       "      <td>28</td>\n",
       "      <td>Private</td>\n",
       "      <td>338409</td>\n",
       "      <td>Bachelors</td>\n",
       "      <td>13</td>\n",
       "      <td>Married-civ-spouse</td>\n",
       "      <td>Prof-specialty</td>\n",
       "      <td>Wife</td>\n",
       "      <td>Black</td>\n",
       "      <td>Female</td>\n",
       "      <td>0</td>\n",
       "      <td>0</td>\n",
       "      <td>40</td>\n",
       "      <td>Cuba</td>\n",
       "      <td>&lt;=50K</td>\n",
       "    </tr>\n",
       "  </tbody>\n",
       "</table>\n",
       "</div>"
      ],
      "text/plain": [
       "   age         workclass  fnlwgt  education  education-num  \\\n",
       "0   39         State-gov   77516  Bachelors             13   \n",
       "1   50  Self-emp-not-inc   83311  Bachelors             13   \n",
       "2   38           Private  215646    HS-grad              9   \n",
       "3   53           Private  234721       11th              7   \n",
       "4   28           Private  338409  Bachelors             13   \n",
       "\n",
       "       marital-status         occupation   relationship   race     sex  \\\n",
       "0       Never-married       Adm-clerical  Not-in-family  White    Male   \n",
       "1  Married-civ-spouse    Exec-managerial        Husband  White    Male   \n",
       "2            Divorced  Handlers-cleaners  Not-in-family  White    Male   \n",
       "3  Married-civ-spouse  Handlers-cleaners        Husband  Black    Male   \n",
       "4  Married-civ-spouse     Prof-specialty           Wife  Black  Female   \n",
       "\n",
       "   capital-gain  capital-loss  hours-per-week native-country salary  \n",
       "0          2174             0              40  United-States  <=50K  \n",
       "1             0             0              13  United-States  <=50K  \n",
       "2             0             0              40  United-States  <=50K  \n",
       "3             0             0              40  United-States  <=50K  \n",
       "4             0             0              40           Cuba  <=50K  "
      ]
     },
     "execution_count": 47,
     "metadata": {},
     "output_type": "execute_result"
    }
   ],
   "source": [
    "import pandas as pd\n",
    "\n",
    "df = pd.read_csv('adult.data.csv', sep = ',', names=['age','workclass','fnlwgt','education','education-num','marital-status','occupation','relationship','race','sex','capital-gain','capital-loss','hours-per-week','native-country','salary'])\n",
    "df.head()"
   ]
  },
  {
   "cell_type": "markdown",
   "id": "fb27de0c-943f-4b79-947c-5b56314a586b",
   "metadata": {},
   "source": [
    "### How many of each race are represented in this dataset? This should be a Pandas series with race names as the index labels."
   ]
  },
  {
   "cell_type": "code",
   "execution_count": 48,
   "id": "01f8292d-503a-40e9-b138-cc371ec9421b",
   "metadata": {},
   "outputs": [
    {
     "data": {
      "text/plain": [
       "White                 27816\n",
       "Black                  3124\n",
       "Asian-Pac-Islander     1039\n",
       "Amer-Indian-Eskimo      311\n",
       "Other                   271\n",
       "Name: race, dtype: int64"
      ]
     },
     "execution_count": 48,
     "metadata": {},
     "output_type": "execute_result"
    }
   ],
   "source": [
    "race_count = df.race.value_counts()\n",
    "race_count"
   ]
  },
  {
   "cell_type": "markdown",
   "id": "6de6717a-3cdc-4135-9ba1-23f89105f5ff",
   "metadata": {},
   "source": [
    "### What is the average age of men?"
   ]
  },
  {
   "cell_type": "code",
   "execution_count": 49,
   "id": "5cd582fc-f14f-4b59-9da9-86e8ad80bb06",
   "metadata": {},
   "outputs": [
    {
     "data": {
      "text/plain": [
       "39.4"
      ]
     },
     "execution_count": 49,
     "metadata": {},
     "output_type": "execute_result"
    }
   ],
   "source": [
    "men_df = df.loc[df['sex'] == 'Male']\n",
    "round(men_df['age'].mean(), 1)"
   ]
  },
  {
   "cell_type": "markdown",
   "id": "425f4972-8d7a-41fb-aa69-bd46b0f18548",
   "metadata": {},
   "source": [
    "### What is the percentage of people who have a Bachelor's degree?"
   ]
  },
  {
   "cell_type": "code",
   "execution_count": 50,
   "id": "cb93e9d6-3af6-4e9b-911d-f255521c4c42",
   "metadata": {},
   "outputs": [
    {
     "data": {
      "text/plain": [
       "16.4"
      ]
     },
     "execution_count": 50,
     "metadata": {},
     "output_type": "execute_result"
    }
   ],
   "source": [
    "education_count = df.education.value_counts(normalize=True)\n",
    "percentage_bachelors = education_count['Bachelors'] * 100\n",
    "round(percentage_bachelors, 1)"
   ]
  },
  {
   "cell_type": "markdown",
   "id": "c02aae20-6d0d-4c47-8d63-9352c632504f",
   "metadata": {},
   "source": [
    "### What percentage of people with advanced education (`Bachelors`, `Masters`, or `Doctorate`) make more than 50K?"
   ]
  },
  {
   "cell_type": "code",
   "execution_count": 51,
   "id": "b7d30c20-207b-4a5d-966b-be661e7542c3",
   "metadata": {},
   "outputs": [
    {
     "data": {
      "text/plain": [
       "46.5"
      ]
     },
     "execution_count": 51,
     "metadata": {},
     "output_type": "execute_result"
    }
   ],
   "source": [
    "advanced_df = df.query('education in [\"Bachelors\", \"Masters\", \"Doctorate\"]')\n",
    "above_50 = advanced_df.salary.value_counts(normalize=True)\n",
    "round(above_50['>50K'] * 100, 1)"
   ]
  },
  {
   "cell_type": "markdown",
   "id": "bdddea92-d3fb-4d98-96d0-747b977ac1ba",
   "metadata": {},
   "source": [
    "### What percentage of people without advanced education make more than 50K?"
   ]
  },
  {
   "cell_type": "code",
   "execution_count": 52,
   "id": "be9ed87c-c830-4b89-a016-bc71a49b1147",
   "metadata": {},
   "outputs": [
    {
     "data": {
      "text/plain": [
       "17.4"
      ]
     },
     "execution_count": 52,
     "metadata": {},
     "output_type": "execute_result"
    }
   ],
   "source": [
    "advanced_df = df.query('education not in [\"Bachelors\", \"Masters\", \"Doctorate\"]')\n",
    "above_50 = advanced_df.salary.value_counts(normalize=True)\n",
    "round(above_50['>50K'] * 100, 1)"
   ]
  },
  {
   "cell_type": "markdown",
   "id": "378bdfc7-4d61-45eb-97b5-9c332c8342c2",
   "metadata": {},
   "source": [
    "### What is the minimum number of hours a person works per week?"
   ]
  },
  {
   "cell_type": "code",
   "execution_count": 53,
   "id": "797b1a5e-d1cd-404b-b30a-3ae560ff5eac",
   "metadata": {},
   "outputs": [
    {
     "data": {
      "text/plain": [
       "1"
      ]
     },
     "execution_count": 53,
     "metadata": {},
     "output_type": "execute_result"
    }
   ],
   "source": [
    "min(df['hours-per-week'])"
   ]
  },
  {
   "cell_type": "markdown",
   "id": "114d724c-dd12-4a54-9bd8-2536b66d8c45",
   "metadata": {},
   "source": [
    "### What percentage of the people who work the minimum number of hours per week have a salary of more than 50K?"
   ]
  },
  {
   "cell_type": "code",
   "execution_count": 67,
   "id": "a75f1688-8824-4fd4-be68-919626168fec",
   "metadata": {},
   "outputs": [
    {
     "data": {
      "text/plain": [
       "10.0"
      ]
     },
     "execution_count": 67,
     "metadata": {},
     "output_type": "execute_result"
    }
   ],
   "source": [
    "min_hours = df.query(\"`hours-per-week` == 1\")\n",
    "above_50 = min_hours.salary.value_counts(normalize=True)\n",
    "round(above_50['>50K'] * 100, 1)"
   ]
  },
  {
   "cell_type": "markdown",
   "id": "7ae1fd56-bd47-4a44-aa10-d9915960c392",
   "metadata": {},
   "source": [
    "### What country has the highest percentage of people that earn >50K?"
   ]
  },
  {
   "cell_type": "code",
   "execution_count": 168,
   "id": "0daf5ef4-8d3b-4b75-95e4-576638fb7ff1",
   "metadata": {},
   "outputs": [
    {
     "data": {
      "text/plain": [
       "Iran    0.418605\n",
       "Name: native-country, dtype: float64"
      ]
     },
     "execution_count": 168,
     "metadata": {},
     "output_type": "execute_result"
    }
   ],
   "source": [
    "richest = df.loc[df['salary'] == \">50K\", 'native-country'].value_counts()\n",
    "total_pop = df['native-country'].value_counts()\n",
    "percentages = (richest / total_pop).sort_values(ascending=False)\n",
    "percentages.head(1)"
   ]
  },
  {
   "cell_type": "markdown",
   "id": "b3eeda92-8b96-4ec4-807b-64021b751e43",
   "metadata": {},
   "source": [
    "### And what is that percentage?"
   ]
  },
  {
   "cell_type": "code",
   "execution_count": 171,
   "id": "221b39dc-e2f2-4f2f-bb83-d53c55b5ed57",
   "metadata": {},
   "outputs": [
    {
     "data": {
      "text/plain": [
       "41.9"
      ]
     },
     "execution_count": 171,
     "metadata": {},
     "output_type": "execute_result"
    }
   ],
   "source": [
    "round(percentages[0] * 100, 1)"
   ]
  },
  {
   "cell_type": "markdown",
   "id": "04920605-90d1-4349-a05f-740497eca8e2",
   "metadata": {},
   "source": [
    "### Identify the most popular occupation for those who earn >50K in India"
   ]
  },
  {
   "cell_type": "code",
   "execution_count": 114,
   "id": "a3ff4da6-67f9-4525-b56f-ce131336fb5b",
   "metadata": {},
   "outputs": [
    {
     "data": {
      "text/plain": [
       "Prof-specialty    0.625\n",
       "Name: occupation, dtype: float64"
      ]
     },
     "execution_count": 114,
     "metadata": {},
     "output_type": "execute_result"
    }
   ],
   "source": [
    "indians = df.query(\"`native-country` == 'India'\")\n",
    "indians_above_50 = indians.query(\"salary == '>50K'\")\n",
    "most_occ = indians_above_50.occupation.value_counts(normalize=True)\n",
    "most_occ.head(1)"
   ]
  },
  {
   "cell_type": "code",
   "execution_count": null,
   "id": "11d156d7-583b-4412-a205-7a4909fb2607",
   "metadata": {},
   "outputs": [],
   "source": []
  }
 ],
 "metadata": {
  "kernelspec": {
   "display_name": "Python 3",
   "language": "python",
   "name": "python3"
  },
  "language_info": {
   "codemirror_mode": {
    "name": "ipython",
    "version": 3
   },
   "file_extension": ".py",
   "mimetype": "text/x-python",
   "name": "python",
   "nbconvert_exporter": "python",
   "pygments_lexer": "ipython3",
   "version": "3.8.8"
  }
 },
 "nbformat": 4,
 "nbformat_minor": 5
}
